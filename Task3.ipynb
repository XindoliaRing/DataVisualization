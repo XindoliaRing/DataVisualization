{
 "cells": [
  {
   "cell_type": "code",
   "execution_count": 22,
   "metadata": {},
   "outputs": [],
   "source": [
    "import numpy as np\n",
    "import pandas as pd\n",
    "import matplotlib.pyplot as plt\n",
    "%matplotlib inline\n",
    "#设置中文编码和负号的正常显示\n",
    "plt.rcParams['font.family']='Microsoft YaHei'\n",
    "plt.rcParams['axes.unicode_minus'] = False"
   ]
  },
  {
   "cell_type": "code",
   "execution_count": 23,
   "metadata": {},
   "outputs": [
    {
     "data": {
      "text/html": [
       "<div>\n",
       "<style scoped>\n",
       "    .dataframe tbody tr th:only-of-type {\n",
       "        vertical-align: middle;\n",
       "    }\n",
       "\n",
       "    .dataframe tbody tr th {\n",
       "        vertical-align: top;\n",
       "    }\n",
       "\n",
       "    .dataframe thead th {\n",
       "        text-align: right;\n",
       "    }\n",
       "</style>\n",
       "<table border=\"1\" class=\"dataframe\">\n",
       "  <thead>\n",
       "    <tr style=\"text-align: right;\">\n",
       "      <th></th>\n",
       "      <th>Unnamed: 0</th>\n",
       "      <th>event_time</th>\n",
       "      <th>order_id</th>\n",
       "      <th>product_id</th>\n",
       "      <th>category_id</th>\n",
       "      <th>category_code</th>\n",
       "      <th>brand</th>\n",
       "      <th>price</th>\n",
       "      <th>user_id</th>\n",
       "      <th>age</th>\n",
       "      <th>sex</th>\n",
       "      <th>local</th>\n",
       "    </tr>\n",
       "  </thead>\n",
       "  <tbody>\n",
       "    <tr>\n",
       "      <th>0</th>\n",
       "      <td>0</td>\n",
       "      <td>2020-04-24 11:50:39 UTC</td>\n",
       "      <td>2294359932054536986</td>\n",
       "      <td>1515966223509089906</td>\n",
       "      <td>2.268105e+18</td>\n",
       "      <td>electronics.tablet</td>\n",
       "      <td>samsung</td>\n",
       "      <td>162.01</td>\n",
       "      <td>1.515916e+18</td>\n",
       "      <td>24.0</td>\n",
       "      <td>女</td>\n",
       "      <td>海南</td>\n",
       "    </tr>\n",
       "    <tr>\n",
       "      <th>1</th>\n",
       "      <td>1</td>\n",
       "      <td>2020-04-24 11:50:39 UTC</td>\n",
       "      <td>2294359932054536986</td>\n",
       "      <td>1515966223509089906</td>\n",
       "      <td>2.268105e+18</td>\n",
       "      <td>electronics.tablet</td>\n",
       "      <td>samsung</td>\n",
       "      <td>162.01</td>\n",
       "      <td>1.515916e+18</td>\n",
       "      <td>24.0</td>\n",
       "      <td>女</td>\n",
       "      <td>海南</td>\n",
       "    </tr>\n",
       "    <tr>\n",
       "      <th>2</th>\n",
       "      <td>2</td>\n",
       "      <td>2020-04-24 14:37:43 UTC</td>\n",
       "      <td>2294444024058086220</td>\n",
       "      <td>2273948319057183658</td>\n",
       "      <td>2.268105e+18</td>\n",
       "      <td>electronics.audio.headphone</td>\n",
       "      <td>huawei</td>\n",
       "      <td>77.52</td>\n",
       "      <td>1.515916e+18</td>\n",
       "      <td>38.0</td>\n",
       "      <td>女</td>\n",
       "      <td>北京</td>\n",
       "    </tr>\n",
       "    <tr>\n",
       "      <th>3</th>\n",
       "      <td>3</td>\n",
       "      <td>2020-04-24 14:37:43 UTC</td>\n",
       "      <td>2294444024058086220</td>\n",
       "      <td>2273948319057183658</td>\n",
       "      <td>2.268105e+18</td>\n",
       "      <td>electronics.audio.headphone</td>\n",
       "      <td>huawei</td>\n",
       "      <td>77.52</td>\n",
       "      <td>1.515916e+18</td>\n",
       "      <td>38.0</td>\n",
       "      <td>女</td>\n",
       "      <td>北京</td>\n",
       "    </tr>\n",
       "    <tr>\n",
       "      <th>4</th>\n",
       "      <td>4</td>\n",
       "      <td>2020-04-24 19:16:21 UTC</td>\n",
       "      <td>2294584263154074236</td>\n",
       "      <td>2273948316817424439</td>\n",
       "      <td>2.268105e+18</td>\n",
       "      <td>NaN</td>\n",
       "      <td>karcher</td>\n",
       "      <td>217.57</td>\n",
       "      <td>1.515916e+18</td>\n",
       "      <td>32.0</td>\n",
       "      <td>女</td>\n",
       "      <td>广东</td>\n",
       "    </tr>\n",
       "  </tbody>\n",
       "</table>\n",
       "</div>"
      ],
      "text/plain": [
       "   Unnamed: 0               event_time             order_id  \\\n",
       "0           0  2020-04-24 11:50:39 UTC  2294359932054536986   \n",
       "1           1  2020-04-24 11:50:39 UTC  2294359932054536986   \n",
       "2           2  2020-04-24 14:37:43 UTC  2294444024058086220   \n",
       "3           3  2020-04-24 14:37:43 UTC  2294444024058086220   \n",
       "4           4  2020-04-24 19:16:21 UTC  2294584263154074236   \n",
       "\n",
       "            product_id   category_id                category_code    brand  \\\n",
       "0  1515966223509089906  2.268105e+18           electronics.tablet  samsung   \n",
       "1  1515966223509089906  2.268105e+18           electronics.tablet  samsung   \n",
       "2  2273948319057183658  2.268105e+18  electronics.audio.headphone   huawei   \n",
       "3  2273948319057183658  2.268105e+18  electronics.audio.headphone   huawei   \n",
       "4  2273948316817424439  2.268105e+18                          NaN  karcher   \n",
       "\n",
       "    price       user_id   age sex local  \n",
       "0  162.01  1.515916e+18  24.0   女    海南  \n",
       "1  162.01  1.515916e+18  24.0   女    海南  \n",
       "2   77.52  1.515916e+18  38.0   女    北京  \n",
       "3   77.52  1.515916e+18  38.0   女    北京  \n",
       "4  217.57  1.515916e+18  32.0   女    广东  "
      ]
     },
     "execution_count": 23,
     "metadata": {},
     "output_type": "execute_result"
    }
   ],
   "source": [
    "df = pd.read_csv('电子产品销售分析.csv')\n",
    "df.head()"
   ]
  },
  {
   "cell_type": "code",
   "execution_count": 24,
   "metadata": {},
   "outputs": [
    {
     "name": "stdout",
     "output_type": "stream",
     "text": [
      "<class 'pandas.core.frame.DataFrame'>\n",
      "RangeIndex: 564169 entries, 0 to 564168\n",
      "Data columns (total 12 columns):\n",
      " #   Column         Non-Null Count   Dtype         \n",
      "---  ------         --------------   -----         \n",
      " 0   Unnamed: 0     564169 non-null  int64         \n",
      " 1   event_time     564169 non-null  datetime64[ns]\n",
      " 2   order_id       564169 non-null  int64         \n",
      " 3   product_id     564169 non-null  int64         \n",
      " 4   category_id    564169 non-null  float64       \n",
      " 5   category_code  434799 non-null  object        \n",
      " 6   brand          536945 non-null  object        \n",
      " 7   price          564169 non-null  float64       \n",
      " 8   user_id        564169 non-null  float64       \n",
      " 9   age            564169 non-null  float64       \n",
      " 10  sex            564169 non-null  object        \n",
      " 11  local          564169 non-null  object        \n",
      "dtypes: datetime64[ns](1), float64(4), int64(3), object(4)\n",
      "memory usage: 51.7+ MB\n"
     ]
    }
   ],
   "source": [
    "#数据清洗和处理\n",
    "#数据类型转化\n",
    "df['event_time'] = pd.to_datetime(df['event_time'].str[:19], format=\"%Y-%m-%d %H:%M:%S\")\n",
    "df.info()"
   ]
  },
  {
   "cell_type": "code",
   "execution_count": 25,
   "metadata": {},
   "outputs": [],
   "source": [
    "#计算时间变量\n",
    "df['Month'] = df['event_time'].dt.month\n",
    "df['Day'] = df['event_time'].dt.day\n",
    "df['hour'] = df['event_time'].dt.hour"
   ]
  },
  {
   "cell_type": "code",
   "execution_count": 27,
   "metadata": {},
   "outputs": [
    {
     "data": {
      "text/plain": [
       "Unnamed: 0       0\n",
       "event_time       0\n",
       "order_id         0\n",
       "product_id       0\n",
       "category_id      0\n",
       "category_code    0\n",
       "brand            0\n",
       "price            0\n",
       "user_id          0\n",
       "age              0\n",
       "sex              0\n",
       "local            0\n",
       "Month            0\n",
       "Day              0\n",
       "hour             0\n",
       "dtype: int64"
      ]
     },
     "execution_count": 27,
     "metadata": {},
     "output_type": "execute_result"
    }
   ],
   "source": [
    "# 将有缺失项的两列用missing填充\n",
    "df['category_code'].fillna('missing',inplace=True)\n",
    "df['brand'].fillna('missing',inplace=True)\n",
    "np.sum(df.isnull())"
   ]
  },
  {
   "cell_type": "code",
   "execution_count": 28,
   "metadata": {},
   "outputs": [],
   "source": [
    "df_sex = df['sex'].value_counts() \n",
    "df = df[df['price']>0]"
   ]
  },
  {
   "cell_type": "code",
   "execution_count": 35,
   "metadata": {},
   "outputs": [
    {
     "data": {
      "image/png": "[encoded data removed]",
      "text/plain": [
       "<Figure size 720x360 with 1 Axes>"
      ]
     },
     "metadata": {
      "needs_background": "light"
     },
     "output_type": "display_data"
    }
   ],
   "source": [
    "# 1. 每月订单数量的折线图\n",
    "plt.figure(figsize=(10,5))\n",
    "plt.plot(df[df['price'] > 0].groupby('Month')['order_id'].nunique())\n",
    "plt.xlabel('月份')\n",
    "plt.ylabel('订单数量')\n",
    "plt.title('每月订单数量图')\n",
    "plt.show()"
   ]
  },
  {
   "cell_type": "code",
   "execution_count": 33,
   "metadata": {},
   "outputs": [
    {
     "data": {
      "image/png": "[encoded data removed]",
      "text/plain": [
       "<Figure size 864x576 with 1 Axes>"
      ]
     },
     "metadata": {
      "needs_background": "light"
     },
     "output_type": "display_data"
    }
   ],
   "source": [
    "# 2. 不同省份成交金额的水平柱状图\n",
    "plt.figure(figsize=(12,8))\n",
    "df[df['price'] > 0].groupby('local')['price'].sum().sort_values(ascending=True).plot.barh()\n",
    "plt.xlabel('成交金额')\n",
    "plt.ylabel('省份')\n",
    "plt.title('不同省份成交金额水平柱状图')\n",
    "plt.show()"
   ]
  },
  {
   "cell_type": "code",
   "execution_count": 34,
   "metadata": {},
   "outputs": [
    {
     "data": {
      "image/png": "[encoded data removed]",
      "text/plain": [
       "<Figure size 1080x720 with 1 Axes>"
      ]
     },
     "metadata": {
      "needs_background": "light"
     },
     "output_type": "display_data"
    }
   ],
   "source": [
    "# 3. 不同省份用户男女人数对比簇状柱形图\n",
    "cities = df.drop_duplicates(['local'])['local']\n",
    "df_city = [city for city in cities]\n",
    "\n",
    "plt.figure(figsize=(15,10))\n",
    "sex_m = df[df[df['price']>0]['sex'] == '男'].groupby('local')['sex'].count()\n",
    "sex_f = df[df[df['price']>0]['sex'] == '女'].groupby('local')['sex'].count()\n",
    "plt.bar(df_city,sex_m,color='darkslateblue',label='男')\n",
    "plt.bar(df_city,sex_f,bottom=sex_m,color='mediumpurple',label='女')\n",
    "plt.legend(loc='best')\n",
    "plt.ylabel('性别', size=14)\n",
    "plt.xlabel('省份', size=14)\n",
    "plt.title('不同省份用户男女人数对比情况', size=16)\n",
    "plt.show()"
   ]
  },
  {
   "cell_type": "code",
   "execution_count": null,
   "metadata": {},
   "outputs": [],
   "source": []
  }
 ],
 "metadata": {
  "kernelspec": {
   "display_name": "Python 3",
   "language": "python",
   "name": "python3"
  },
  "language_info": {
   "codemirror_mode": {
    "name": "ipython",
    "version": 3
   },
   "file_extension": ".py",
   "mimetype": "text/x-python",
   "name": "python",
   "nbconvert_exporter": "python",
   "pygments_lexer": "ipython3",
   "version": "3.8.5"
  }
 },
 "nbformat": 4,
 "nbformat_minor": 4
}
